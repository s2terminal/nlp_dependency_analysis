{
 "cells": [
  {
   "cell_type": "code",
   "execution_count": 1,
   "metadata": {},
   "outputs": [],
   "source": [
    "from tqdm import tqdm\n",
    "from src.nlp_dependency_analysis.load_aozora import load_aozora"
   ]
  },
  {
   "cell_type": "code",
   "execution_count": 2,
   "metadata": {},
   "outputs": [],
   "source": [
    "texts = load_aozora()"
   ]
  },
  {
   "cell_type": "code",
   "execution_count": 3,
   "metadata": {},
   "outputs": [
    {
     "data": {
      "text/plain": [
       "['メロスは激怒した', '必ず、かの邪智暴虐の王を除かなければならぬと決意した', 'メロスには政治がわからぬ']"
      ]
     },
     "execution_count": 3,
     "metadata": {},
     "output_type": "execute_result"
    }
   ],
   "source": [
    "texts[:3]"
   ]
  },
  {
   "cell_type": "code",
   "execution_count": 4,
   "metadata": {},
   "outputs": [
    {
     "data": {
      "text/plain": [
       "460"
      ]
     },
     "execution_count": 4,
     "metadata": {},
     "output_type": "execute_result"
    }
   ],
   "source": [
    "len(texts)"
   ]
  },
  {
   "cell_type": "code",
   "execution_count": 16,
   "metadata": {},
   "outputs": [
    {
     "data": {
      "text/plain": [
       "{'毎日': '食べます', '焼肉定食を': '食べます'}"
      ]
     },
     "execution_count": 16,
     "metadata": {},
     "output_type": "execute_result"
    }
   ],
   "source": [
    "import CaboCha\n",
    "\n",
    "# from https://yu-nix.com/blog/2020/11/11/python-cabocha/\n",
    "\n",
    "def gen_chunks(tree):\n",
    "    \"\"\"\n",
    "    構文木treeからチャンクの辞書を生成する\n",
    "    \"\"\"\n",
    "    chunks = {}\n",
    "    key = 0  # intにしているがこれはChunk.linkの値で辿れるようにしている\n",
    "\n",
    "    for i in range(tree.size()):  # ツリーのサイズだけ回す\n",
    "        tok = tree.token(i)  # トークンを得る\n",
    "        if tok.chunk:  # トークンがチャンクを持っていたら\n",
    "            chunks[key] = tok.chunk  # チャンクを辞書に追加する\n",
    "            key += 1\n",
    "\n",
    "    return chunks\n",
    "\n",
    "\n",
    "def get_surface(tree, chunk):\n",
    "    \"\"\"\n",
    "    chunkからtree内のトークンを得て、そのトークンが持つ表層形を取得する\n",
    "    \"\"\"\n",
    "    surface = ''\n",
    "    beg = chunk.token_pos  # このチャンクのツリー内のトークンの位置\n",
    "    end = chunk.token_pos + chunk.token_size  # トークン列のサイズ\n",
    "\n",
    "    for i in range(beg, end):\n",
    "        token = tree.token(i)\n",
    "        surface += token.surface  # 表層形の取得\n",
    "\n",
    "    return surface\n",
    "\n",
    "def analyze_cabocha(text: str):\n",
    "    ret = {}\n",
    "    cp = CaboCha.Parser()\n",
    "    tree = cp.parse(text)\n",
    "    chunks = gen_chunks(tree)\n",
    "    for from_chunk in chunks.values():\n",
    "        if from_chunk.link < 0:\n",
    "            continue  # リンクのないチャンクは飛ばす\n",
    "\n",
    "        # このチャンクの表層形を取得\n",
    "        from_surface = get_surface(tree, from_chunk)\n",
    "\n",
    "        # from_chunkがリンクしているチャンクを取得\n",
    "        to_chunk = chunks[from_chunk.link]\n",
    "        to_surface = get_surface(tree, to_chunk)\n",
    "\n",
    "        ret[from_surface] = to_surface\n",
    "    return ret\n",
    "\n",
    "analyze_cabocha(\"毎日焼肉定食を食べます\")"
   ]
  },
  {
   "cell_type": "code",
   "execution_count": 17,
   "metadata": {},
   "outputs": [
    {
     "data": {
      "text/plain": [
       "{'毎日': '食べます', '焼肉定食を': '食べます'}"
      ]
     },
     "execution_count": 17,
     "metadata": {},
     "output_type": "execute_result"
    }
   ],
   "source": [
    "def analyze_cabocha(text: str):\n",
    "    ret = {}\n",
    "    parser = CaboCha.Parser()\n",
    "    tree = parser.parse(text)\n",
    "    for chunk_num in range(tree.chunk_size()):\n",
    "        token = tree.token(chunk_num)\n",
    "        if not token.chunk:\n",
    "            continue\n",
    "        from_chunk = token.chunk\n",
    "        if from_chunk.link < 0:\n",
    "            continue\n",
    "        from_surface = get_surface(tree, from_chunk)\n",
    "\n",
    "        to_chunk = tree.chunk(from_chunk.link)\n",
    "        to_surface = get_surface(tree, to_chunk)\n",
    "        ret[from_surface] = to_surface\n",
    "    return ret\n",
    "\n",
    "analyze_cabocha(\"毎日焼肉定食を食べます\")"
   ]
  },
  {
   "cell_type": "code",
   "execution_count": 28,
   "metadata": {},
   "outputs": [
    {
     "name": "stderr",
     "output_type": "stream",
     "text": [
      "100%|██████████| 460/460 [00:00<00:00, 636.47it/s]"
     ]
    },
    {
     "name": "stdout",
     "output_type": "stream",
     "text": [
      "CPU times: user 338 ms, sys: 392 ms, total: 730 ms\n",
      "Wall time: 726 ms\n"
     ]
    },
    {
     "name": "stderr",
     "output_type": "stream",
     "text": [
      "\n"
     ]
    }
   ],
   "source": [
    "%%time\n",
    "result = [ analyze_cabocha(t) for t in tqdm(texts) ]"
   ]
  },
  {
   "cell_type": "code",
   "execution_count": null,
   "metadata": {},
   "outputs": [],
   "source": []
  }
 ],
 "metadata": {
  "interpreter": {
   "hash": "d460c1174ea8b7405ae827f9763f0789f53d4be33152adf04e32ff20b659dfbb"
  },
  "kernelspec": {
   "display_name": "Python 3.9.10 ('nlp-dependency-analysis-9TtSrW0h-py3.9')",
   "language": "python",
   "name": "python3"
  },
  "language_info": {
   "codemirror_mode": {
    "name": "ipython",
    "version": 3
   },
   "file_extension": ".py",
   "mimetype": "text/x-python",
   "name": "python",
   "nbconvert_exporter": "python",
   "pygments_lexer": "ipython3",
   "version": "3.9.10"
  },
  "orig_nbformat": 4
 },
 "nbformat": 4,
 "nbformat_minor": 2
}
