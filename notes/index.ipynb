{
 "cells": [
  {
   "cell_type": "code",
   "execution_count": 1,
   "metadata": {},
   "outputs": [],
   "source": [
    "from tqdm import tqdm\n",
    "import urllib.request\n",
    "import zipfile\n",
    "from os.path import join, exists\n",
    "import re\n",
    "import joblib"
   ]
  },
  {
   "cell_type": "code",
   "execution_count": 2,
   "metadata": {},
   "outputs": [],
   "source": [
    "def load_aozora():\n",
    "    # 太宰治「走れメロス」 https://www.aozora.gr.jp/cards/000035/card1567.html\n",
    "    url = 'https://www.aozora.gr.jp/cards/000035/files/1567_ruby_4948.zip'\n",
    "    download_filepath = '/tmp/1567_ruby_4948.zip'\n",
    "\n",
    "    if not exists(download_filepath):\n",
    "        urllib.request.urlretrieve(url, download_filepath)\n",
    "\n",
    "    with zipfile.ZipFile(download_filepath, 'r') as myzipfile:\n",
    "        myzipfile.extractall('/tmp')\n",
    "        for myfile in myzipfile.infolist():\n",
    "            with open(join('/tmp', myfile.filename), encoding='sjis') as file:\n",
    "                text = file.read()\n",
    "    # 参考: https://qiita.com/makaishi2/items/63b7986f6da93dc55edd?utm_source=pocket_mylist#step1\n",
    "    text = re.split('\\-{5,}',text)[2]\n",
    "    text = re.split('底本：',text)[0]\n",
    "    text = text.replace('|', '')\n",
    "    text = re.sub('《.+?》', '', text)\n",
    "    text = re.sub('［＃.+?］', '',text)\n",
    "    text = re.sub('\\n\\n', '\\n', text) \n",
    "    text = re.sub('\\r', '', text)\n",
    "    text = \"\".join(text.split())\n",
    "    return text.split(\"。\")"
   ]
  },
  {
   "cell_type": "code",
   "execution_count": 3,
   "metadata": {},
   "outputs": [],
   "source": [
    "texts = load_aozora()"
   ]
  },
  {
   "cell_type": "code",
   "execution_count": 4,
   "metadata": {},
   "outputs": [
    {
     "data": {
      "text/plain": [
       "['メロスは激怒した', '必ず、かの邪智暴虐の王を除かなければならぬと決意した', 'メロスには政治がわからぬ']"
      ]
     },
     "execution_count": 4,
     "metadata": {},
     "output_type": "execute_result"
    }
   ],
   "source": [
    "texts[:3]"
   ]
  },
  {
   "cell_type": "code",
   "execution_count": 5,
   "metadata": {},
   "outputs": [
    {
     "data": {
      "text/plain": [
       "460"
      ]
     },
     "execution_count": 5,
     "metadata": {},
     "output_type": "execute_result"
    }
   ],
   "source": [
    "len(texts)"
   ]
  },
  {
   "cell_type": "markdown",
   "metadata": {},
   "source": [
    "## KNP"
   ]
  },
  {
   "cell_type": "code",
   "execution_count": 6,
   "metadata": {},
   "outputs": [],
   "source": [
    "from pyknp import KNP"
   ]
  },
  {
   "cell_type": "code",
   "execution_count": 7,
   "metadata": {},
   "outputs": [],
   "source": [
    "knp = KNP()\n"
   ]
  },
  {
   "cell_type": "code",
   "execution_count": 8,
   "metadata": {},
   "outputs": [],
   "source": [
    "def analyze_knp(text: str):\n",
    "    ret = {}\n",
    "    result = knp.parse(text)\n",
    "    for bnst in result.bnst_list():\n",
    "        parent = bnst.parent\n",
    "        if parent is not None:\n",
    "            ret[bnst.midasi] = parent.midasi\n",
    "    return ret"
   ]
  },
  {
   "cell_type": "code",
   "execution_count": 9,
   "metadata": {},
   "outputs": [
    {
     "data": {
      "text/plain": [
       "{'メロスは': '激怒した'}"
      ]
     },
     "execution_count": 9,
     "metadata": {},
     "output_type": "execute_result"
    }
   ],
   "source": [
    "analyze_knp(texts[0])"
   ]
  },
  {
   "cell_type": "code",
   "execution_count": 10,
   "metadata": {},
   "outputs": [
    {
     "name": "stderr",
     "output_type": "stream",
     "text": [
      " 25%|██▍       | 114/460 [00:16<00:38,  8.98it/s];; Invalid morpheme ID: kata(28) kei(11)\n",
      " 41%|████      | 187/460 [00:30<00:53,  5.14it/s];; Invalid morpheme ID: kata(28) kei(11)\n",
      " 67%|██████▋   | 307/460 [00:49<00:16,  9.11it/s];; Invalid morpheme ID: kata(28) kei(11)\n",
      "100%|██████████| 460/460 [01:08<00:00,  6.69it/s]"
     ]
    },
    {
     "name": "stdout",
     "output_type": "stream",
     "text": [
      "CPU times: user 1.07 s, sys: 151 ms, total: 1.22 s\n",
      "Wall time: 1min 8s\n"
     ]
    },
    {
     "name": "stderr",
     "output_type": "stream",
     "text": [
      "\n"
     ]
    }
   ],
   "source": [
    "%%time\n",
    "result = [ analyze_knp(t) for t in tqdm(texts) ]"
   ]
  },
  {
   "cell_type": "code",
   "execution_count": null,
   "metadata": {},
   "outputs": [],
   "source": []
  }
 ],
 "metadata": {
  "interpreter": {
   "hash": "d460c1174ea8b7405ae827f9763f0789f53d4be33152adf04e32ff20b659dfbb"
  },
  "kernelspec": {
   "display_name": "Python 3.9.10 ('nlp-dependency-analysis-9TtSrW0h-py3.9')",
   "language": "python",
   "name": "python3"
  },
  "language_info": {
   "codemirror_mode": {
    "name": "ipython",
    "version": 3
   },
   "file_extension": ".py",
   "mimetype": "text/x-python",
   "name": "python",
   "nbconvert_exporter": "python",
   "pygments_lexer": "ipython3",
   "version": "3.9.10"
  },
  "orig_nbformat": 4
 },
 "nbformat": 4,
 "nbformat_minor": 2
}
