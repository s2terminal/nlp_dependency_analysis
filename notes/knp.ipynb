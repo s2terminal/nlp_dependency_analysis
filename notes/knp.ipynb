{
 "cells": [
  {
   "cell_type": "code",
   "execution_count": 1,
   "metadata": {},
   "outputs": [],
   "source": [
    "from tqdm import tqdm\n",
    "from src.nlp_dependency_analysis.load_aozora import load_aozora"
   ]
  },
  {
   "cell_type": "code",
   "execution_count": 2,
   "metadata": {},
   "outputs": [],
   "source": [
    "texts = load_aozora()"
   ]
  },
  {
   "cell_type": "code",
   "execution_count": 3,
   "metadata": {},
   "outputs": [
    {
     "data": {
      "text/plain": [
       "['メロスは激怒した', '必ず、かの邪智暴虐の王を除かなければならぬと決意した', 'メロスには政治がわからぬ']"
      ]
     },
     "execution_count": 3,
     "metadata": {},
     "output_type": "execute_result"
    }
   ],
   "source": [
    "texts[:3]"
   ]
  },
  {
   "cell_type": "code",
   "execution_count": 4,
   "metadata": {},
   "outputs": [
    {
     "data": {
      "text/plain": [
       "460"
      ]
     },
     "execution_count": 4,
     "metadata": {},
     "output_type": "execute_result"
    }
   ],
   "source": [
    "len(texts)"
   ]
  },
  {
   "cell_type": "markdown",
   "metadata": {},
   "source": [
    "## KNP"
   ]
  },
  {
   "cell_type": "code",
   "execution_count": 12,
   "metadata": {},
   "outputs": [],
   "source": [
    "from pyknp import KNP"
   ]
  },
  {
   "cell_type": "code",
   "execution_count": 13,
   "metadata": {},
   "outputs": [],
   "source": [
    "def analyze_knp(text: str):\n",
    "    knp = KNP()\n",
    "    ret = {}\n",
    "    result = knp.parse(text)\n",
    "    for bnst in result.bnst_list():\n",
    "        parent = bnst.parent\n",
    "        if parent is not None:\n",
    "            ret[bnst.midasi] = parent.midasi\n",
    "    return ret"
   ]
  },
  {
   "cell_type": "code",
   "execution_count": 14,
   "metadata": {},
   "outputs": [
    {
     "data": {
      "text/plain": [
       "{'毎日': '食べます', '焼肉定食を': '食べます'}"
      ]
     },
     "execution_count": 14,
     "metadata": {},
     "output_type": "execute_result"
    }
   ],
   "source": [
    "analyze_knp(\"毎日焼肉定食を食べます\")"
   ]
  },
  {
   "cell_type": "code",
   "execution_count": 15,
   "metadata": {},
   "outputs": [
    {
     "data": {
      "text/plain": [
       "{'メロスは': '激怒した'}"
      ]
     },
     "execution_count": 15,
     "metadata": {},
     "output_type": "execute_result"
    }
   ],
   "source": [
    "analyze_knp(texts[0])"
   ]
  },
  {
   "cell_type": "code",
   "execution_count": 10,
   "metadata": {},
   "outputs": [
    {
     "name": "stderr",
     "output_type": "stream",
     "text": [
      ";; Invalid morpheme ID: kata(28) kei(11)\n",
      ";; Invalid morpheme ID: kata(28) kei(11)\n",
      ";; Invalid morpheme ID: kata(28) kei(11)\n",
      ";; Invalid morpheme ID: kata(28) kei(11)\n",
      ";; Invalid morpheme ID: kata(28) kei(11)\n",
      ";; Invalid morpheme ID: kata(28) kei(11)\n",
      ";; Invalid morpheme ID: kata(28) kei(11)\n",
      ";; Invalid morpheme ID: kata(28) kei(11)\n",
      ";; Invalid morpheme ID: kata(28) kei(11)\n",
      ";; Invalid morpheme ID: kata(28) kei(11)\n",
      ";; Invalid morpheme ID: kata(28) kei(11)\n",
      ";; Invalid morpheme ID: kata(28) kei(11)\n",
      ";; Invalid morpheme ID: kata(28) kei(11)\n",
      ";; Invalid morpheme ID: kata(28) kei(11)\n",
      ";; Invalid morpheme ID: kata(28) kei(11)\n",
      ";; Invalid morpheme ID: kata(28) kei(11)\n",
      ";; Invalid morpheme ID: kata(28) kei(11)\n",
      ";; Invalid morpheme ID: kata(28) kei(11)\n",
      ";; Invalid morpheme ID: kata(28) kei(11)\n",
      ";; Invalid morpheme ID: kata(28) kei(11)\n",
      ";; Invalid morpheme ID: kata(28) kei(11)\n",
      ";; Invalid morpheme ID: kata(28) kei(11)\n",
      ";; Invalid morpheme ID: kata(28) kei(11)\n",
      ";; Invalid morpheme ID: kata(28) kei(11)\n"
     ]
    },
    {
     "name": "stdout",
     "output_type": "stream",
     "text": [
      "1min 3s ± 500 ms per loop (mean ± std. dev. of 7 runs, 1 loop each)\n"
     ]
    }
   ],
   "source": [
    "%%timeit\n",
    "result = [ analyze_knp(t) for t in texts ]"
   ]
  },
  {
   "cell_type": "code",
   "execution_count": 16,
   "metadata": {},
   "outputs": [
    {
     "name": "stderr",
     "output_type": "stream",
     "text": [
      " 25%|██▍       | 114/460 [00:24<00:58,  5.94it/s];; Invalid morpheme ID: kata(28) kei(11)\n",
      " 41%|████      | 187/460 [00:42<01:16,  3.58it/s];; Invalid morpheme ID: kata(28) kei(11)\n",
      " 67%|██████▋   | 307/460 [01:10<00:21,  7.23it/s];; Invalid morpheme ID: kata(28) kei(11)\n",
      "100%|██████████| 460/460 [01:38<00:00,  4.65it/s]"
     ]
    },
    {
     "name": "stdout",
     "output_type": "stream",
     "text": [
      "CPU times: user 1.63 s, sys: 2.83 s, total: 4.46 s\n",
      "Wall time: 1min 38s\n"
     ]
    },
    {
     "name": "stderr",
     "output_type": "stream",
     "text": [
      "\n"
     ]
    }
   ],
   "source": [
    "%%time\n",
    "result = [ analyze_knp(t) for t in tqdm(texts) ]"
   ]
  },
  {
   "cell_type": "code",
   "execution_count": null,
   "metadata": {},
   "outputs": [],
   "source": []
  }
 ],
 "metadata": {
  "interpreter": {
   "hash": "d460c1174ea8b7405ae827f9763f0789f53d4be33152adf04e32ff20b659dfbb"
  },
  "kernelspec": {
   "display_name": "Python 3.9.10 ('nlp-dependency-analysis-9TtSrW0h-py3.9')",
   "language": "python",
   "name": "python3"
  },
  "language_info": {
   "codemirror_mode": {
    "name": "ipython",
    "version": 3
   },
   "file_extension": ".py",
   "mimetype": "text/x-python",
   "name": "python",
   "nbconvert_exporter": "python",
   "pygments_lexer": "ipython3",
   "version": "3.9.10"
  },
  "orig_nbformat": 4
 },
 "nbformat": 4,
 "nbformat_minor": 2
}
